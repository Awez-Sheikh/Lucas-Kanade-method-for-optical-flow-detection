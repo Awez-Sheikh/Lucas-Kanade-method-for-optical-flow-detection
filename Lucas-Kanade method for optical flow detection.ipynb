{
 "cells": [
  {
   "cell_type": "code",
   "execution_count": null,
   "id": "699b09a1",
   "metadata": {},
   "outputs": [
    {
     "ename": "",
     "evalue": "",
     "output_type": "error",
     "traceback": [
      "\u001b[1;31mRunning cells with 'Python 3.10.16' requires the ipykernel package.\n",
      "\u001b[1;31mRun the following command to install 'ipykernel' into the Python environment. \n",
      "\u001b[1;31mCommand: '/bin/python3.10 -m pip install ipykernel -U --user --force-reinstall'"
     ]
    }
   ],
   "source": [
    "!python --version"
   ]
  },
  {
   "cell_type": "code",
   "execution_count": 1,
   "id": "ed792793-7b13-4dbd-a065-39e073e00e12",
   "metadata": {},
   "outputs": [],
   "source": [
    "import numpy as np\n",
    "import cv2\n",
    "import matplotlib.pyplot as plt"
   ]
  },
  {
   "cell_type": "code",
   "execution_count": 2,
   "id": "b430b208-eaf4-4d37-bfc6-f95f3a18afce",
   "metadata": {},
   "outputs": [],
   "source": [
    "video = cv2.VideoCapture(\"plane.mp4\")"
   ]
  },
  {
   "cell_type": "code",
   "execution_count": 3,
   "id": "5f64579e-4240-4308-882b-b5e4b067fd7d",
   "metadata": {},
   "outputs": [],
   "source": [
    "ret, prev_frame = video.read()\n",
    "if not ret:\n",
    "    print(\"error unable to read video\")\n",
    "    exit()\n",
    "\n",
    "#convert to gray scale (first frame)\n",
    "prev_gray = cv2.cvtColor(prev_frame, cv2.COLOR_BGR2GRAY)\n",
    "\n",
    "#PARAMETERS FOR LUCAS KANADE OPTICAL FLOW\n",
    "lk_params = dict(\n",
    "    winSize = (10, 10),\n",
    "    maxLevel = 2,\n",
    "    criteria = (cv2.TERM_CRITERIA_EPS | cv2.TERM_CRITERIA_COUNT, 10, 0.03)\n",
    ")\n",
    "\n",
    "#DETECT GOOD FEATURES TO TRACK IN FIRST FRAME\n",
    "prev_corners = cv2.goodFeaturesToTrack(prev_gray, mask = None, maxCorners = 100, qualityLevel = 0.3, minDistance = 7, blockSize = 7)\n",
    "\n",
    "# create a mask image for drawing (optional for visualization)\n",
    "mask = np.zeros_like(prev_frame)\n",
    "\n",
    "#process the video frame by frame\n",
    "while True:\n",
    "    #Read the next frame\n",
    "    ret, curr_frame = video.read()\n",
    "    if not ret:\n",
    "        break\n",
    "   \n",
    "    #convert the curr frame to grayscale\n",
    "    curr_gray = cv2.cvtColor(curr_frame, cv2.COLOR_BGR2GRAY)\n",
    "\n",
    "    #calculate optical flow using lucas knade method\n",
    "    curr_corners, status, error = cv2.calcOpticalFlowPyrLK(prev_gray, curr_gray, prev_corners, None, **lk_params)\n",
    "\n",
    "    #filter valid points\n",
    "    good_old = prev_corners[status.flatten() == 1]\n",
    "    good_new = curr_corners[status.flatten() == 1]\n",
    "\n",
    "    #draw motion vectors\n",
    "    for (old, new) in zip(good_old, good_new):\n",
    "        x_old, y_old = old.ravel()\n",
    "        x_new, y_new = new.ravel()\n",
    "\n",
    "        mask = cv2.line(mask, (int(x_old), int(y_old)), (int(x_new), int(y_new)), (0, 225, 0), 2)\n",
    "        curr_frame = cv2.circle(curr_frame, (int(x_new), int(y_new)), 5, (0, 0, 255), -1)\n",
    "       \n",
    "    #combine the frame and mask for visualization\n",
    "    output = cv2.add(curr_frame, mask)\n",
    "\n",
    "    # display the result\n",
    "    cv2.imshow('lucas kannade optical flow', output)\n",
    "\n",
    "    #break the loop if q is pressed\n",
    "    if cv2.waitKey(30) & 0xFF == ord('q'):\n",
    "        break\n",
    "\n",
    "    #update the prev frame and corner for next iteration\n",
    "    prev_gray = curr_gray.copy()\n",
    "    prev_corners = good_new.reshape(-1, 1, 2)\n",
    "\n",
    "#release resources\n",
    "video.release()\n",
    "cv2.destroyAllWindows()"
   ]
  },
  {
   "cell_type": "code",
   "execution_count": null,
   "id": "134157b0-f8f3-4392-827c-3b3a87dbcf5c",
   "metadata": {},
   "outputs": [],
   "source": []
  }
 ],
 "metadata": {
  "kernelspec": {
   "display_name": "Python 3",
   "language": "python",
   "name": "python3"
  },
  "language_info": {
   "codemirror_mode": {
    "name": "ipython",
    "version": 3
   },
   "file_extension": ".py",
   "mimetype": "text/x-python",
   "name": "python",
   "nbconvert_exporter": "python",
   "pygments_lexer": "ipython3",
   "version": "3.10.16"
  }
 },
 "nbformat": 4,
 "nbformat_minor": 5
}
